{
 "cells": [
  {
   "cell_type": "markdown",
   "id": "036ee902-b6a5-4acd-b929-1865ac1503ea",
   "metadata": {},
   "source": [
    "Implementing proper normalization for unit dual quaternions is not straightforward. I got it wrong the first time and I got it wrong the second time I tried it, but this tought me more about dual numbers and dual quaternions, which I want to summarize in this article. The correct normalization procedure can be very simple in the end. It is a case in which several pages of calculations lead to a concise and simple solution that requires about 4 lines of code. Most of the things discussed here were extracted from [this pull request](https://github.com/scipy/scipy/pull/22618)."
   ]
  },
  {
   "cell_type": "markdown",
   "id": "d7276093-65b5-47ed-9594-d64c29ca77ec",
   "metadata": {},
   "source": [
    "## Background\n",
    "\n",
    "Let's first establish some fundamentals. A dual number $r + d \\epsilon$ consists of a real part $r$ and a dual part $d$ with $\\epsilon^2 = 0$ and $\\epsilon \\neq 0$. A quaternion $r + \\boldsymbol{v}$ consists of a real part $r \\in \\mathbb{R}$ and a vector part $\\boldsymbol{v} \\in \\mathbb{R}^3$. A dual quaternion is a combination of the two. A dual quaternion $\\sigma = p + q \\epsilon$ consists of a real quaternion $p = r_p + \\boldsymbol{v}_p$ and a dual quaternion $q = r_q + \\boldsymbol{v}_q$. Normalizing a dual quaternion means the dual quaternion should have unit norm, that is, $\\sigma \\cdot \\sigma^* = 1$ (with the dual quaternion product $\\cdot$). It is often assumed that it is enough to ensure that the real quaternion has unit norm by dividing the whole dual quaternion by the norm of the real quaternion. This works for most cases, but it is an approximation. We see this immediately, when we write the unit norm property correctly: $\\sigma \\cdot \\sigma^* = 1 + 0 \\epsilon$. Ensuring that the dual part is 0 is not trivial. There is a great solution that I found on stackoverflow [here](https://stackoverflow.com/a/76313524/915743), but it lacks some details that I would like to write down here.\n",
    "\n",
    "The following definitions and properties of quaternions, dual quaternions, and dual numbers are required to understand the solution.\n",
    "\n",
    "### Quaternion Product\n",
    "\n",
    "$$q_1 \\cdot q_2 = r_1 r_2 - \\boldsymbol{v}_1^T \\boldsymbol{v}_2 + r_1 \\boldsymbol{v}_2 + r_2 \\boldsymbol{v}_1 + \\boldsymbol{v}_1 \\times \\boldsymbol{v}_2$$\n",
    "\n",
    "### Quaternion Conjugate\n",
    "\n",
    "$$q^* = (r + \\boldsymbol{v})^* = r - \\boldsymbol{v}$$\n",
    "\n",
    "### Quaternion Product with Conjugate\n",
    "\n",
    "From the last two definitions, we can see easily that\n",
    "\n",
    "$$q \\cdot q^* = r^2 + \\boldsymbol{v}^T\\boldsymbol{v} - r \\boldsymbol{v} + r \\boldsymbol{v} - \\boldsymbol{v} \\times \\boldsymbol{v} = r^2 + \\boldsymbol{v}^T \\boldsymbol{v},$$\n",
    "\n",
    "which is just a real number without the vector part.\n",
    "\n",
    "### Dual Quaternion Product\n",
    "\n",
    "$$\\sigma_1 \\cdot \\sigma_2 = (p_1 + q_1 \\epsilon) \\cdot (p_2 + q_2 \\epsilon) = p_1 \\cdot p_2 + (p_1 \\cdot q_2 + p_2 \\cdot q_1) \\epsilon$$\n",
    "\n",
    "### Dual Quaternion Conjugate\n",
    "\n",
    "There are three different dual quaternion conjugates. We will use the quaternion conjugate of the two individual quaternions, which is the inverse in the case of unit dual quaternions.\n",
    "\n",
    "$$\\sigma^* = (p + q \\epsilon)^* = p^* + q^* \\epsilon$$"
   ]
  },
  {
   "cell_type": "markdown",
   "id": "bef27fae-df9d-4da8-ba40-c12cf9542527",
   "metadata": {},
   "source": [
    "## Norm of a Dual Quaternion\n",
    "\n",
    "Now we can start computing the (squared) norm of a dual quaternion. We need the dual quaternion product and the dual quaternion conjugate:\n",
    "\n",
    "$$\\sigma \\cdot \\sigma^* = (p + q \\epsilon) \\cdot (p + q \\epsilon)^* = p \\cdot p^* + (p q^* + q p^*) \\epsilon$$\n",
    "\n",
    "We can further break this down with $p = r_p + \\boldsymbol{v}_p$ and $q = r_q + \\boldsymbol{v}_q$ to\n",
    "\n",
    "$$p \\cdot p^* = r_p^2 + \\boldsymbol{v}_p^T \\boldsymbol{v}_p$$\n",
    "\n",
    "$$p q^* = r_p r_q + \\boldsymbol{v}_p^T \\boldsymbol{v}_q - r_p \\boldsymbol{v}_q + r_q \\boldsymbol{v}_p - \\boldsymbol{v}_p \\times \\boldsymbol{v}_q$$\n",
    "$$q p^* = r_q r_p + \\boldsymbol{v}_q^T \\boldsymbol{v}_p - r_q \\boldsymbol{v}_p + r_p \\boldsymbol{v}_q - \\boldsymbol{v}_q \\times \\boldsymbol{v}_p$$\n",
    "\n",
    "With $\\boldsymbol{v}_p \\times \\boldsymbol{v}_q = - \\boldsymbol{v}_q \\times \\boldsymbol{v}_p$, we can furthermore simplify (underlined terms cancel each other)\n",
    "$$p q^* + q p^* = (r_p r_q + \\boldsymbol{v}_p^T \\boldsymbol{v}_q \\underline{- r_p \\boldsymbol{v}_q + r_q \\boldsymbol{v}_p} - \\underline{\\boldsymbol{v}_p \\times \\boldsymbol{v}_q}) + (r_q r_p + \\boldsymbol{v}_q^T \\boldsymbol{v}_p \\underline{- r_q \\boldsymbol{v}_p + r_p \\boldsymbol{v}_q} - \\underline{\\boldsymbol{v}_q \\times \\boldsymbol{v}_p}) = 2 (r_p r_q + \\boldsymbol{v}_p^T \\boldsymbol{v}_q),$$\n",
    "\n",
    "which does not contain a vector part anymore.\n",
    "\n",
    "To summarize, the squared norm of a dual quaternion is a dual number of the form\n",
    "\n",
    "$$\\sigma \\cdot \\sigma^* = r_p^2 + \\boldsymbol{v}_p^T \\boldsymbol{v}_p + 2 (r_p r_q + \\boldsymbol{v}_p^T \\boldsymbol{v}_q) \\epsilon,$$\n",
    "\n",
    "that is, the vector parts of the quaternions are $0$.\n",
    "\n",
    "When we write $p = (r_p, v_{1p} v_{2p}, v_{3p})^T$ and $q = (r_q, v_{1q} v_{2q}, v_{3q})^T$ as 4d vectors, $r_p^2 + \\boldsymbol{v}_p^T \\boldsymbol{v}_p = p^T p = ||p||_2^2$ is the squared Euclidean norm of the real quaternion and $r_p r_q + \\boldsymbol{v}_p^T \\boldsymbol{v}_q = p^T q$ is the dot product of the real and dual quaternion, hence\n",
    "\n",
    "$$\\sigma \\cdot \\sigma^* = p^T p + 2 p^T q \\epsilon.$$"
   ]
  },
  {
   "cell_type": "markdown",
   "id": "d804f7cd-a6d8-45c2-b71b-2bc6646423c2",
   "metadata": {},
   "source": [
    "### Example\n",
    "\n",
    "The following function will compute the squared norm. It returns an array of shape `(2,)` with the real part in the first component and the dual part in the second component."
   ]
  },
  {
   "cell_type": "code",
   "execution_count": 1,
   "id": "e2a989a0-4e6d-4662-aed5-fbf1529c0b26",
   "metadata": {},
   "outputs": [],
   "source": [
    "import pytransform3d.transformations as pt\n",
    "\n",
    "\n",
    "def dual_quaternion_squared_norm(sigma):\n",
    "    return pt.concatenate_dual_quaternions(\n",
    "        sigma, pt.dq_q_conj(sigma, unit=False), unit=False\n",
    "    )[[0, 4]]"
   ]
  },
  {
   "cell_type": "markdown",
   "id": "3d3b7127-4bf0-4a93-90e6-18c45a47a28f",
   "metadata": {},
   "source": [
    "We can also use our simplified expression to implement the norm:"
   ]
  },
  {
   "cell_type": "code",
   "execution_count": 2,
   "id": "e0144347-9fc6-418e-bdb6-0ecf90369add",
   "metadata": {},
   "outputs": [],
   "source": [
    "def dual_quaternion_squared_norm_simplified(sigma):\n",
    "    p = sigma[:4]\n",
    "    q = sigma[4:]\n",
    "    real = p @ p\n",
    "    dual = 2 * p @ q\n",
    "    return np.array([real, dual])"
   ]
  },
  {
   "cell_type": "markdown",
   "id": "6617c853-643f-4386-b23b-0db80f4139d2",
   "metadata": {},
   "source": [
    "Let's try to generate an arbitrary 8d vector, interpret it as a dual quaternion and compute its norm."
   ]
  },
  {
   "cell_type": "code",
   "execution_count": 3,
   "id": "ef842f22-1d4a-40f3-8303-8c96d9c9feab",
   "metadata": {},
   "outputs": [
    {
     "data": {
      "text/plain": [
       "array([ 0.30471708, -1.03998411,  0.7504512 ,  0.94056472, -1.95103519,\n",
       "       -1.30217951,  0.1278404 , -0.31624259])"
      ]
     },
     "execution_count": 3,
     "metadata": {},
     "output_type": "execute_result"
    }
   ],
   "source": [
    "import numpy as np\n",
    "\n",
    "\n",
    "rng = np.random.default_rng(42)\n",
    "sigma = rng.normal(size=8)\n",
    "sigma"
   ]
  },
  {
   "cell_type": "code",
   "execution_count": 4,
   "id": "48ff18bc-5242-4012-b190-6723c38ef0bd",
   "metadata": {},
   "outputs": [
    {
     "data": {
      "text/plain": [
       "array([2.62225842, 1.11644721])"
      ]
     },
     "execution_count": 4,
     "metadata": {},
     "output_type": "execute_result"
    }
   ],
   "source": [
    "dual_quaternion_squared_norm(sigma)"
   ]
  },
  {
   "cell_type": "code",
   "execution_count": 5,
   "id": "80d864c7-41ee-45c0-b128-0815145c5e61",
   "metadata": {},
   "outputs": [
    {
     "data": {
      "text/plain": [
       "array([2.62225842, 1.11644721])"
      ]
     },
     "execution_count": 5,
     "metadata": {},
     "output_type": "execute_result"
    }
   ],
   "source": [
    "dual_quaternion_squared_norm_simplified(sigma)"
   ]
  },
  {
   "cell_type": "markdown",
   "id": "5d36abad-de0f-4452-bf15-3fbceef6b48a",
   "metadata": {},
   "source": [
    "## Normalization Procedure (Direct Solution)\n",
    "\n",
    "To normalize a dual quaternion, we multiply it with the inverse square root of its squared norm.\n",
    "\n",
    "### Inverse Square Root of a Dual Number\n",
    "\n",
    "Computing the inverse square root of a dual number is not trivial. One derivation is outlined [here](https://stackoverflow.com/a/76313524/915743). However, I find the following more easy to understand.\n",
    "\n",
    "We define the inverse square root of a dual number $s + t \\epsilon$ as\n",
    "\n",
    "$$\\frac{1}{\\sqrt{s + t \\epsilon}} = u + v \\epsilon$$\n",
    "\n",
    "and square the expression on both sides to\n",
    "\n",
    "$$\\frac{1}{s + t \\epsilon} = u^2 + 2uv \\epsilon.$$\n",
    "\n",
    "We multiply by $s + t \\epsilon$ and get\n",
    "\n",
    "$$1 + 0 \\epsilon = (u^2 + 2uv \\epsilon)(s + t \\epsilon) = u^2s + (u^2t + 2uvs) \\epsilon,$$\n",
    "\n",
    "which we can split into\n",
    "\n",
    "$$1 = u^2s \\Leftrightarrow u = \\pm\\frac{1}{\\sqrt{s}}$$\n",
    "\n",
    "$$0 \\epsilon = (u^2t + 2uvs) \\epsilon \\Leftrightarrow v \\epsilon = - \\frac{0.5 t}{(\\pm \\sqrt{s})^3} \\epsilon$$\n",
    "\n",
    "### Normalization\n",
    "\n",
    "Hence, to normalize a dual quaternion, we multiply the dual quaternion with the dual number\n",
    "\n",
    "$$\\frac{1}{\\sqrt{s + t \\epsilon}} = \\pm\\left(\\frac{1}{\\sqrt{s}} - \\frac{0.5 t}{(\\sqrt{s})^3} \\epsilon\\right).$$\n",
    "\n",
    "We will only use the positive solution here, multiplying this normalization factor with the dual quaternion gives us the solution\n",
    "\n",
    "$$(p + q \\epsilon) \\left(\\frac{1}{\\sqrt{s}} - \\frac{0.5 t}{(\\sqrt{s})^3} \\epsilon\\right) = \\frac{p}{\\sqrt{s}} + \\left(\\frac{q}{\\sqrt{s}} - \\frac{0.5 t}{(\\sqrt{s})^3} p \\right) \\epsilon.$$\n",
    "\n",
    "Plugging in $s = p^T p$ and $t = 2 p^T q$ from the dual quaternion norm, we would get the normalization factor\n",
    "\n",
    "$$\\frac{1}{\\sqrt{s + t \\epsilon}} = \\pm\\left(\\frac{1}{\\sqrt{p^T p}} - \\frac{p^Tq}{\\left(\\sqrt{p^Tp}\\right)^3} \\epsilon\\right),$$\n",
    "\n",
    "hence,\n",
    "\n",
    "$$(p + q \\epsilon) \\left(\\frac{1}{\\sqrt{s}} - \\frac{0.5 t}{(\\sqrt{s})^3} \\epsilon\\right) = \\frac{p}{\\sqrt{p^T p}} + \\left(\\frac{q}{\\sqrt{p^T p}} - \\frac{p^Tq}{\\left(\\sqrt{p^Tp}\\right)^3} p \\right) \\epsilon.$$\n",
    "\n",
    "### Side Note: Two Solutions\n",
    "\n",
    "Why are there two solutions? As you can see, the difference is the sign of the normalization factor. Multiplying any unit dual quaternion by $-1$ gives us a unit dual quaternion that represents exactly the same transformation just like it is the case for unit quaternions and rotations."
   ]
  },
  {
   "cell_type": "markdown",
   "id": "c936bf87-053b-4fcb-85e7-b550d75baff8",
   "metadata": {},
   "source": [
    "### Example"
   ]
  },
  {
   "cell_type": "code",
   "execution_count": 6,
   "id": "77b8fd90-aab2-4eeb-a4a8-823cebfbff26",
   "metadata": {},
   "outputs": [],
   "source": [
    "def norm_dual_quaternion(sigma):\n",
    "    sigma_prod = pt.concatenate_dual_quaternions(\n",
    "        sigma, pt.dq_q_conj(sigma, unit=False), unit=False\n",
    "    )\n",
    "    s = sigma_prod[0]\n",
    "    t = sigma_prod[4]\n",
    "    u = 1.0 / np.sqrt(s)\n",
    "    v = -0.5 * t / np.sqrt(s)**3\n",
    "\n",
    "    p = sigma[:4] * u\n",
    "    q = sigma[4:] * u + sigma[:4] * v\n",
    "\n",
    "    return np.hstack((p, q))"
   ]
  },
  {
   "cell_type": "markdown",
   "id": "63133504-a707-419d-af1e-3aba2fc652bf",
   "metadata": {},
   "source": [
    "Again, we can write down a simplified version that we derived above."
   ]
  },
  {
   "cell_type": "code",
   "execution_count": 7,
   "id": "c52b9dd4-7cea-4917-9ba8-43e22602a22c",
   "metadata": {},
   "outputs": [],
   "source": [
    "def norm_dual_quaternion_simplified(sigma):\n",
    "    p = sigma[:4]\n",
    "    q = sigma[4:]\n",
    "    s = p @ p\n",
    "\n",
    "    u = 1.0 / np.sqrt(s)\n",
    "    v = -(p @ q) / np.sqrt(s)**3\n",
    "\n",
    "    p = sigma[:4] * u\n",
    "    q = sigma[4:] * u + sigma[:4] * v\n",
    "\n",
    "    return np.hstack((p, q))"
   ]
  },
  {
   "cell_type": "code",
   "execution_count": 8,
   "id": "58625404-c5ad-433b-9342-3f9eb2afbcef",
   "metadata": {},
   "outputs": [
    {
     "data": {
      "text/plain": [
       "array([ 0.18817376, -0.64222759,  0.4634306 ,  0.58083254, -1.24489263,\n",
       "       -0.66742595, -0.01970857, -0.31893819])"
      ]
     },
     "execution_count": 8,
     "metadata": {},
     "output_type": "execute_result"
    }
   ],
   "source": [
    "sigma_unit = norm_dual_quaternion(sigma)\n",
    "sigma_unit"
   ]
  },
  {
   "cell_type": "code",
   "execution_count": 9,
   "id": "997d7366-079d-4dd6-9238-dc0475eafc1e",
   "metadata": {},
   "outputs": [
    {
     "data": {
      "text/plain": [
       "array([1., 0.])"
      ]
     },
     "execution_count": 9,
     "metadata": {},
     "output_type": "execute_result"
    }
   ],
   "source": [
    "dual_quaternion_squared_norm(sigma_unit).round(3)"
   ]
  },
  {
   "cell_type": "code",
   "execution_count": 10,
   "id": "2b810a36-44f1-4323-b5d2-adbd4f28f295",
   "metadata": {},
   "outputs": [
    {
     "data": {
      "text/plain": [
       "array([ 0.18817376, -0.64222759,  0.4634306 ,  0.58083254, -1.24489263,\n",
       "       -0.66742595, -0.01970857, -0.31893819])"
      ]
     },
     "execution_count": 10,
     "metadata": {},
     "output_type": "execute_result"
    }
   ],
   "source": [
    "sigma_unit = norm_dual_quaternion_simplified(sigma)\n",
    "sigma_unit"
   ]
  },
  {
   "cell_type": "code",
   "execution_count": 11,
   "id": "7ccc9c98-8442-4a40-9602-04de4349bc38",
   "metadata": {},
   "outputs": [
    {
     "data": {
      "text/plain": [
       "array([ 1., -0.])"
      ]
     },
     "execution_count": 11,
     "metadata": {},
     "output_type": "execute_result"
    }
   ],
   "source": [
    "dual_quaternion_squared_norm(sigma_unit).round(3)"
   ]
  },
  {
   "cell_type": "markdown",
   "id": "3b0f2734-8170-455c-a127-ca904becff06",
   "metadata": {},
   "source": [
    "We see that both functions convert an arbitrary 8d vector to a unit dual quaternion with squared norm $1 + 0 \\epsilon$."
   ]
  },
  {
   "cell_type": "markdown",
   "id": "8b720a0f-cbe9-4918-8d95-09ca4bb1c4b0",
   "metadata": {},
   "source": [
    "## Edge Case\n",
    "\n",
    "It could also happen that the real quaternion $p = 0$. In this case, $u$ is not defined. We will omit this case here, but the solution would be to set $p = 1$ and then proceed with the normalization procedure."
   ]
  },
  {
   "cell_type": "code",
   "execution_count": 12,
   "id": "1dd7ad04-6e2e-4d5a-8d39-7329bed970f5",
   "metadata": {},
   "outputs": [
    {
     "name": "stderr",
     "output_type": "stream",
     "text": [
      "/tmp/ipykernel_3400/3139420.py:7: RuntimeWarning: divide by zero encountered in scalar divide\n",
      "  u = 1.0 / np.sqrt(s)\n",
      "/tmp/ipykernel_3400/3139420.py:8: RuntimeWarning: invalid value encountered in scalar divide\n",
      "  v = -0.5 * t / np.sqrt(s)**3\n",
      "/tmp/ipykernel_3400/3139420.py:10: RuntimeWarning: invalid value encountered in multiply\n",
      "  p = sigma[:4] * u\n",
      "/tmp/ipykernel_3400/3139420.py:11: RuntimeWarning: invalid value encountered in multiply\n",
      "  q = sigma[4:] * u + sigma[:4] * v\n"
     ]
    },
    {
     "data": {
      "text/plain": [
       "array([nan, nan, nan, nan, nan, nan, nan, nan])"
      ]
     },
     "execution_count": 12,
     "metadata": {},
     "output_type": "execute_result"
    }
   ],
   "source": [
    "norm_dual_quaternion(np.zeros(8))"
   ]
  },
  {
   "cell_type": "markdown",
   "id": "cd153c6e-1bd9-4fea-9c85-2d7ea69dae43",
   "metadata": {},
   "source": [
    "## Normalization in Two Steps\n",
    "\n",
    "To simplify the terms involved in the normalization procedure, we can split the normalization up into two steps:\n",
    "\n",
    "1. Multiply $\\sigma$ with the normalization factor $\\frac{1}{\\sqrt{s}} = \\frac{1}{\\sqrt{p^T p}}$ for the real quaternion to obtain $\\sigma' = \\frac{\\sigma}{\\sqrt{s}}$, which ensures that the norm is $1 + t' \\epsilon$.\n",
    "2. Multiply $\\sigma' = p' + q' \\epsilon$ with the normalization factor $(1 - \\frac{t'}{2} \\epsilon)$ for the dual quaternion (since s' = 1) to obtain $\\sigma'' = p' + q' \\epsilon - p'^T q' p' \\epsilon$."
   ]
  },
  {
   "cell_type": "code",
   "execution_count": 13,
   "id": "8f8931fe-dfbb-4e0f-b9e0-0e77aab34f2e",
   "metadata": {},
   "outputs": [],
   "source": [
    "def norm_dual_quaternion_two_steps(sigma):\n",
    "    p = np.copy(sigma[:4])\n",
    "    q = np.copy(sigma[4:])\n",
    "\n",
    "    # 1. ensure unit norm of the real quaternion\n",
    "    real_norm = np.sqrt(p @ p)\n",
    "    p /= real_norm\n",
    "    q /= real_norm\n",
    "\n",
    "    # 2. ensure orthogonality\n",
    "    q -= p @ q * p\n",
    "\n",
    "    return np.hstack((p, q))"
   ]
  },
  {
   "cell_type": "code",
   "execution_count": 14,
   "id": "59adac8a-52fd-4a1b-ac6d-f2d7c9eac2d5",
   "metadata": {},
   "outputs": [
    {
     "data": {
      "text/plain": [
       "array([ 0.18817376, -0.64222759,  0.4634306 ,  0.58083254, -1.24489263,\n",
       "       -0.66742595, -0.01970857, -0.31893819])"
      ]
     },
     "execution_count": 14,
     "metadata": {},
     "output_type": "execute_result"
    }
   ],
   "source": [
    "sigma_unit = norm_dual_quaternion_two_steps(sigma)\n",
    "sigma_unit"
   ]
  },
  {
   "cell_type": "code",
   "execution_count": 15,
   "id": "b78d0b3d-f14b-4387-8d8d-2e530db093c5",
   "metadata": {},
   "outputs": [
    {
     "data": {
      "text/plain": [
       "array([ 1., -0.])"
      ]
     },
     "execution_count": 15,
     "metadata": {},
     "output_type": "execute_result"
    }
   ],
   "source": [
    "dual_quaternion_squared_norm(sigma_unit).round(3)"
   ]
  },
  {
   "cell_type": "markdown",
   "id": "b7ab321b-35b7-4053-8cac-f7d6134d90c1",
   "metadata": {},
   "source": [
    "The solution is simple. The way to get there was not so simple."
   ]
  },
  {
   "cell_type": "markdown",
   "id": "c5ee5eae-c404-4114-b24a-a29ffc69899c",
   "metadata": {},
   "source": [
    "## Geometrical Interpretation\n",
    "\n",
    "Considering that unit dual quaternion\n",
    "$$\\sigma = p + q \\epsilon = p + 0.5 (0 + \\boldsymbol{t}) p \\epsilon,$$\n",
    "represents a rigid transformation with a rotation quaternion $p$ and a translation vector $\\boldsymbol{t}$, the procedure makes sense geometrically. We have to divide both quaternions by the norm of the real quaternion because it is part of both quaternions $p$ and $q$. In the second step, we remove the part of $q$ that is not orthogonal to $p$: the vector projection of $q$ on $p$, which is $p^T q p$ when $p^T p = 1$."
   ]
  },
  {
   "cell_type": "markdown",
   "id": "f6b20669-68ac-42d5-a73a-e4dfeb92786b",
   "metadata": {},
   "source": [
    "## Mistakes\n",
    "\n",
    "So what were the errors that I saw / made when I implemented the normalization procedure? Here is a list of the most important ones.\n",
    "\n",
    "1. Ignoring the orthogonality constraint. In the beginning I thought it would be enough to divide the dual quaternion by the norm of the real quaternion. This is even suggested in several tutorials, such as [this](https://xbdev.net/misc_demos/demos/dual_quaternions_beyond/paper.pdf). I guess it is good enough as an approximation for most use cases, but sometimes it is not.\n",
    "2. Dividing only the real quaternion by its norm and forgetting about the dual quaternion. Both quaternions should be devided by the norm of the real quaternion.\n",
    "3. Forgetting to take the square root of the real component $s$ of the squared dual quaternion norm. Since we never compute the actual norm $\\sqrt{\\sigma \\sigma^*}$, but only the squared norm $\\sigma \\sigma^*$ of a dual quaternion $\\sigma$ in the direct solution, this has to be kept in mind.\n",
    "4. Using the updated real quaternion to update the dual quaternion in the direct solution. This is necessary in the two-step solution, but it leads to confusing errors in the direct solution."
   ]
  }
 ],
 "metadata": {
  "kernelspec": {
   "display_name": "Python 3 (ipykernel)",
   "language": "python",
   "name": "python3"
  },
  "language_info": {
   "codemirror_mode": {
    "name": "ipython",
    "version": 3
   },
   "file_extension": ".py",
   "mimetype": "text/x-python",
   "name": "python",
   "nbconvert_exporter": "python",
   "pygments_lexer": "ipython3",
   "version": "3.11.9"
  }
 },
 "nbformat": 4,
 "nbformat_minor": 5
}
