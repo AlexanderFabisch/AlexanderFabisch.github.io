{
 "cells": [
  {
   "cell_type": "markdown",
   "id": "c7851008-cb54-43eb-9873-7afcc8373b20",
   "metadata": {},
   "source": [
    "[SciPy](https://github.com/scipy/scipy) is a fundamental library of the [scientific Python](https://scientific-python.org/) ecosystem. I always wondered why it does not provide proper rigid transformations although they are needed in many scientific disciplines such as robotics, computer vision, and computer graphics. This is one reason why [pytransform3d](https://github.com/dfki-ric/pytransform3d) exists.\n",
    "\n",
    "With the issue [ENH: spatial.transform: cover proper rigid transformations with a RigidTransform class (rotations plus translations) #19254](https://github.com/scipy/scipy/issues/19254) opened in September 2023, [Scott Shambaugh](https://theshamblog.com/) took the initiative to change this. It took more than a year to agree on an interface and finally implement the suggested changes with the pull request [ENH: spatial.transform: baseline implementation of RigidTransform #22267](https://github.com/scipy/scipy/pull/22267), which will be part of SciPy 1.16.0.\n",
    "\n",
    "I contributed to some parts of the new feature:\n",
    "\n",
    "* discussion of the interface\n",
    "* the initial draft of the conversions from and to exponential coordinates\n",
    "* the conversion from and to dual quaternions\n",
    "* dual quaternion normalization\n",
    "\n",
    "This is a summary of the new feature."
   ]
  },
  {
   "cell_type": "markdown",
   "id": "e55faffd-8897-4c95-a620-051ea87f3d5b",
   "metadata": {},
   "source": [
    "## The `Rotation` Class\n",
    "\n",
    "With the interface, we tried to be as close as possible to the already existing `Rotation` class from the module `scipy.spatial.transform`, which looks like this:"
   ]
  },
  {
   "cell_type": "code",
   "execution_count": 1,
   "id": "416577a4-67f9-471b-9156-9e2069760f7a",
   "metadata": {},
   "outputs": [
    {
     "data": {
      "text/plain": [
       "Rotation.from_matrix(array([[ 0.70710678, -0.70710678,  0.        ],\n",
       "                            [ 0.70710678,  0.70710678,  0.        ],\n",
       "                            [ 0.        ,  0.        ,  1.        ]]))"
      ]
     },
     "execution_count": 1,
     "metadata": {},
     "output_type": "execute_result"
    }
   ],
   "source": [
    "import numpy as np\n",
    "from scipy.spatial.transform import Rotation\n",
    "\n",
    "\n",
    "# quaternions are use the scalar-last convention, but there is an option\n",
    "# to use the scalar-first convention\n",
    "r_BA = Rotation.from_quat([0, 0, np.sin(np.pi / 4), np.cos(np.pi / 4)])\n",
    "r_BA.as_quat()\n",
    "\n",
    "r_CB = Rotation.from_matrix(\n",
    "    [[0, -1, 0],\n",
    "     [1, 0, 0],\n",
    "     [0, 0, 1]])\n",
    "r_CB.as_matrix()\n",
    "\n",
    "r_DC = Rotation.from_rotvec([0.3, 0.5, -0.2])\n",
    "r_DC.as_rotvec()\n",
    "\n",
    "r_ED = Rotation.from_euler(\n",
    "    \"zyx\", [[90, 0, 0], [0, 45, 0], [45, 60, 30]], degrees=True)\n",
    "\n",
    "r_FE = Rotation.identity()\n",
    "\n",
    "r_ED[0].as_euler('zyx', degrees=True)\n",
    "\n",
    "r_AB = r_BA.inv()  # inverse rotation\n",
    "r_BA.apply([1, 2, 3])  # rotate a vector\n",
    "r_CA = r_CB * r_BA  # compose rotations\n",
    "# compose fractions of the same rotation\n",
    "r_BA ** 2\n",
    "r_BA ** 0.5"
   ]
  },
  {
   "cell_type": "markdown",
   "id": "740bcadc-a635-4248-b418-c8d64d9f5509",
   "metadata": {},
   "source": [
    "In addition, all operations and conversions can also be applied to multiple rotations."
   ]
  },
  {
   "cell_type": "markdown",
   "id": "62299d35-e0f9-44f2-8983-dc00dfb396c7",
   "metadata": {},
   "source": [
    "## `RigidTransform`\n",
    "\n",
    "Many names for the new class were considered, for example, TransformSe3, ProperRigidTransformation, RigidTransformation, and finally RigidTransform as a compromise between technically correct, readable, and short."
   ]
  },
  {
   "cell_type": "code",
   "execution_count": 2,
   "id": "54e29f1e-7dcd-4e3b-9f3a-d7fa83f806ce",
   "metadata": {},
   "outputs": [],
   "source": [
    "from scipy.spatial.transform import RigidTransform"
   ]
  },
  {
   "cell_type": "markdown",
   "id": "1acdab04-f4a2-476f-bf8a-d04bcec795ec",
   "metadata": {},
   "source": [
    "## The Interface\n",
    "\n",
    "### Creating Rigid Transformations\n",
    "\n",
    "Rigid transformations can be constructed from translations and rotations..."
   ]
  },
  {
   "cell_type": "code",
   "execution_count": 3,
   "id": "656af514-5df6-4697-8be1-a52104eb6ac0",
   "metadata": {},
   "outputs": [
    {
     "data": {
      "text/plain": [
       "RigidTransform.from_matrix(array([[1., 0., 0., 1.],\n",
       "                                  [0., 1., 0., 2.],\n",
       "                                  [0., 0., 1., 3.],\n",
       "                                  [0., 0., 0., 1.]]))"
      ]
     },
     "execution_count": 3,
     "metadata": {},
     "output_type": "execute_result"
    }
   ],
   "source": [
    "t_BA = [1, 2, 3]\n",
    "tf_BA = RigidTransform.from_translation(t_BA)\n",
    "tf_BA"
   ]
  },
  {
   "cell_type": "code",
   "execution_count": 4,
   "id": "04104889-87f5-4696-953d-0ad79e830747",
   "metadata": {},
   "outputs": [
    {
     "data": {
      "text/plain": [
       "array([1., 2., 3.])"
      ]
     },
     "execution_count": 4,
     "metadata": {},
     "output_type": "execute_result"
    }
   ],
   "source": [
    "tf_BA.translation"
   ]
  },
  {
   "cell_type": "code",
   "execution_count": 5,
   "id": "58c66690-dab3-42c8-84d3-e8fa19cfc0de",
   "metadata": {},
   "outputs": [
    {
     "data": {
      "text/plain": [
       "RigidTransform.from_matrix(array([[ 0., -1.,  0.,  0.],\n",
       "                                  [ 1.,  0.,  0.,  0.],\n",
       "                                  [ 0.,  0.,  1.,  0.],\n",
       "                                  [ 0.,  0.,  0.,  1.]]))"
      ]
     },
     "execution_count": 5,
     "metadata": {},
     "output_type": "execute_result"
    }
   ],
   "source": [
    "tf_CB = RigidTransform.from_rotation(r_CB)\n",
    "tf_CB"
   ]
  },
  {
   "cell_type": "code",
   "execution_count": 6,
   "id": "af7dd741-afe1-483b-afbd-8029a7dd8b67",
   "metadata": {},
   "outputs": [
    {
     "data": {
      "text/plain": [
       "Rotation.from_matrix(array([[ 0., -1.,  0.],\n",
       "                            [ 1.,  0.,  0.],\n",
       "                            [ 0.,  0.,  1.]]))"
      ]
     },
     "execution_count": 6,
     "metadata": {},
     "output_type": "execute_result"
    }
   ],
   "source": [
    "tf_CB.rotation"
   ]
  },
  {
   "cell_type": "markdown",
   "id": "ca4a81ac-3744-45cc-a3d1-7ca862794190",
   "metadata": {},
   "source": [
    "... or from both of these components."
   ]
  },
  {
   "cell_type": "code",
   "execution_count": 7,
   "id": "7c26d6ea-5d86-4e85-97cd-0d321ffcb625",
   "metadata": {},
   "outputs": [],
   "source": [
    "tf_DC = RigidTransform.from_components(t_BA, r_BA)"
   ]
  },
  {
   "cell_type": "code",
   "execution_count": 8,
   "id": "7cb3619e-4b55-47b6-ad7a-1f8380754e93",
   "metadata": {},
   "outputs": [
    {
     "data": {
      "text/plain": [
       "(array([1., 2., 3.]),\n",
       " Rotation.from_matrix(array([[ 2.22044605e-16, -1.00000000e+00,  0.00000000e+00],\n",
       "                             [ 1.00000000e+00,  2.22044605e-16,  0.00000000e+00],\n",
       "                             [ 0.00000000e+00,  0.00000000e+00,  1.00000000e+00]])))"
      ]
     },
     "execution_count": 8,
     "metadata": {},
     "output_type": "execute_result"
    }
   ],
   "source": [
    "tf_DC.as_components()"
   ]
  },
  {
   "cell_type": "markdown",
   "id": "c7f29d07-f2b3-4288-9d04-8df7a76d0449",
   "metadata": {},
   "source": [
    "You can create the identity transformation via"
   ]
  },
  {
   "cell_type": "code",
   "execution_count": 9,
   "id": "4b6d4e8d-3fd8-4a39-880c-77e93a02ab63",
   "metadata": {},
   "outputs": [
    {
     "data": {
      "text/plain": [
       "RigidTransform.from_matrix(array([[1., 0., 0., 0.],\n",
       "                                  [0., 1., 0., 0.],\n",
       "                                  [0., 0., 1., 0.],\n",
       "                                  [0., 0., 0., 1.]]))"
      ]
     },
     "execution_count": 9,
     "metadata": {},
     "output_type": "execute_result"
    }
   ],
   "source": [
    "RigidTransform.identity()"
   ]
  },
  {
   "cell_type": "markdown",
   "id": "2e48803d-2e33-4b67-bb10-35dc2a095584",
   "metadata": {},
   "source": [
    "### Variable Naming Conventions\n",
    "\n",
    "We use the prefix `t` for translations and these are represented by numpy arrays of shape `(3,)`. We use the prefix `r` for objects of the `Rotation` class and `tf` for objects of the `RigidTransform` class."
   ]
  },
  {
   "cell_type": "markdown",
   "id": "6bcc6079-092f-45a1-9835-9a43a8fc18c1",
   "metadata": {},
   "source": [
    "### Conversions between Representations of Proper Rigid Transformations\n",
    "\n",
    "Just like pytransform3d, the `RigidTransform` class supports conversion from and to transformation matrices, exponential coordinates of transformation, and dual quaternions.\n",
    "\n",
    "#### Homogenous Transformation Matrix\n",
    "\n",
    "In the initial version of the feature, transformation matrices are used as an internal representation. The constructor of the class will normalize transformation matrices automatically. However, the internal representation is hidden and you should only access the transformation matrix with the following functions."
   ]
  },
  {
   "cell_type": "code",
   "execution_count": 10,
   "id": "95bd7571-cbfc-4f0f-96a6-03f532b05d43",
   "metadata": {},
   "outputs": [
    {
     "data": {
      "text/plain": [
       "array([[ 0., -1.,  0.,  1.],\n",
       "       [ 1.,  0.,  0.,  2.],\n",
       "       [ 0.,  0.,  1.,  3.],\n",
       "       [ 0.,  0.,  0.,  1.]])"
      ]
     },
     "execution_count": 10,
     "metadata": {},
     "output_type": "execute_result"
    }
   ],
   "source": [
    "tf_ED = RigidTransform.from_matrix(\n",
    "    [[0, -1, 0, 1],\n",
    "     [1, 0, 0, 2],\n",
    "     [0, 0, 1, 3],\n",
    "     [0, 0, 0, 1]]\n",
    ")\n",
    "tf_ED.as_matrix()"
   ]
  },
  {
   "cell_type": "markdown",
   "id": "52465744-5d56-4707-845e-88602c5bf202",
   "metadata": {},
   "source": [
    "#### Exponential Coordinates of Transformation\n",
    "\n",
    "Exponential coordinates are a minimal representation $\\boldsymbol{\\tau} \\in \\mathbb{R}^6$. They are particularly useful to compute fractions of a transformation, for example, for interpolation (screw linear interpolation, ScLERP) or computing derivatives."
   ]
  },
  {
   "cell_type": "code",
   "execution_count": 11,
   "id": "daff2036-4cc4-4268-90f1-2d98187502fc",
   "metadata": {},
   "outputs": [
    {
     "data": {
      "text/plain": [
       "array([ 0.30471708, -1.03998411,  0.7504512 ,  0.94056472, -1.95103519,\n",
       "       -1.30217951])"
      ]
     },
     "execution_count": 11,
     "metadata": {},
     "output_type": "execute_result"
    }
   ],
   "source": [
    "import pytransform3d.transformations as pt\n",
    "\n",
    "\n",
    "rng = np.random.default_rng(42)\n",
    "exp_coords = pt.random_exponential_coordinates(rng)\n",
    "exp_coords"
   ]
  },
  {
   "cell_type": "markdown",
   "id": "e38e61df-7fb8-45d8-a76d-f3c4861ad9dd",
   "metadata": {},
   "source": [
    "There is a so-called exponential map\n",
    "\n",
    "$$Exp: \\boldsymbol{\\tau} \\in \\mathbb{R}^6 \\rightarrow \\boldsymbol{T} \\in SE(3)$$"
   ]
  },
  {
   "cell_type": "code",
   "execution_count": 12,
   "id": "916a5937-0d6f-43ab-83d7-e7158c6bc906",
   "metadata": {},
   "outputs": [
    {
     "data": {
      "text/plain": [
       "RigidTransform.from_matrix(array([[ 0.29002012, -0.68803531, -0.66520354,  1.96980191],\n",
       "                                  [ 0.41444466,  0.71681443, -0.56072514, -1.16979835],\n",
       "                                  [ 0.86262619, -0.11306848,  0.49304317, -0.63744908],\n",
       "                                  [ 0.        ,  0.        ,  0.        ,  1.        ]]))"
      ]
     },
     "execution_count": 12,
     "metadata": {},
     "output_type": "execute_result"
    }
   ],
   "source": [
    "tf_FE = RigidTransform.from_exp_coords(exp_coords)\n",
    "tf_FE"
   ]
  },
  {
   "cell_type": "markdown",
   "id": "3fff26e7-0e3f-4246-91ce-cda1fab2fa4e",
   "metadata": {},
   "source": [
    "The inverse operation is the logarithmic map\n",
    "\n",
    "$$Log: \\boldsymbol{T} \\in SE(3) \\rightarrow \\boldsymbol{\\tau} \\in \\mathbb{R}^6$$"
   ]
  },
  {
   "cell_type": "code",
   "execution_count": 13,
   "id": "29e0127a-83c1-45d4-b245-c14addd04ecb",
   "metadata": {},
   "outputs": [
    {
     "data": {
      "text/plain": [
       "array([ 0.30471708, -1.03998411,  0.7504512 ,  0.94056472, -1.95103519,\n",
       "       -1.30217951])"
      ]
     },
     "execution_count": 13,
     "metadata": {},
     "output_type": "execute_result"
    }
   ],
   "source": [
    "tf_FE.as_exp_coords()"
   ]
  },
  {
   "cell_type": "markdown",
   "id": "6651dc97-771d-499a-972f-14aeeba16ee8",
   "metadata": {},
   "source": [
    "#### Dual Quaternions\n",
    "\n",
    "Similarly to unit quaternions for rotations, unit dual quaternions are an alternative to represent transformations. They support similar operations as transformation matrices. A dual quaternion consists of a real quaternion and a dual quaternion: $\\boldsymbol{\\sigma} = \\boldsymbol{p} + \\epsilon \\boldsymbol{q}$, where $\\epsilon^2 = 0$ and $\\epsilon \\neq 0$.\n",
    "\n",
    "We use an array of shape `(8,)` to represent dual quaternions."
   ]
  },
  {
   "cell_type": "code",
   "execution_count": 14,
   "id": "2cbe2e09-f3f7-449c-a03e-cf6fcd1351fb",
   "metadata": {},
   "outputs": [
    {
     "data": {
      "text/plain": [
       "array([ 0.98545604,  0.06361002, -0.15735398, -0.00835981,  0.09957055,\n",
       "       -0.42232652,  0.43230695,  0.38672941])"
      ]
     },
     "execution_count": 14,
     "metadata": {},
     "output_type": "execute_result"
    }
   ],
   "source": [
    "dq = pt.dual_quaternion_from_transform(pt.random_transform(rng))\n",
    "dq"
   ]
  },
  {
   "cell_type": "markdown",
   "id": "d1f72192-fc64-4cde-a2d4-244db69f1da1",
   "metadata": {},
   "source": [
    "The tricky part when using dual quaternions is that SciPy uses the scalar-last convention by default for unit dual quaternions because the the `Rotation` class uses this convention by default for unit quaternions. pytransform3d uses the scalar-first convention. However, we can configure SciPy to use scalar-first."
   ]
  },
  {
   "cell_type": "code",
   "execution_count": 15,
   "id": "6c6df8eb-05bc-496b-8d79-21fb1dc2ff86",
   "metadata": {},
   "outputs": [
    {
     "data": {
      "text/plain": [
       "RigidTransform.from_matrix(array([[ 0.95033968, -0.00354212, -0.3111944 , -0.95951462],\n",
       "                                  [-0.03649504,  0.99176776, -0.12273885,  0.84123605],\n",
       "                                  [ 0.30906732,  0.12800065,  0.94238698,  0.68596303],\n",
       "                                  [ 0.        ,  0.        ,  0.        ,  1.        ]]))"
      ]
     },
     "execution_count": 15,
     "metadata": {},
     "output_type": "execute_result"
    }
   ],
   "source": [
    "tf_GF = RigidTransform.from_dual_quat(dq, scalar_first=True)\n",
    "tf_GF"
   ]
  },
  {
   "cell_type": "code",
   "execution_count": 16,
   "id": "8aa83031-80db-482a-8f29-59d793dac833",
   "metadata": {},
   "outputs": [
    {
     "data": {
      "text/plain": [
       "array([ 0.98545604,  0.06361002, -0.15735398, -0.00835981,  0.09957055,\n",
       "       -0.42232652,  0.43230695,  0.38672941])"
      ]
     },
     "execution_count": 16,
     "metadata": {},
     "output_type": "execute_result"
    }
   ],
   "source": [
    "tf_GF.as_dual_quat(scalar_first=True)"
   ]
  },
  {
   "cell_type": "markdown",
   "id": "f7edd8b5-7e0c-476b-bd12-1b8963916c99",
   "metadata": {},
   "source": [
    "### Normalization of Dual Quaternions\n",
    "\n",
    "A thing that I learned when implementing the conversion from dual quaternion to `RigidTransform` is that it is not sufficient to divide the dual quaternion by the Euclidean norm of the real quaternion to normalize it. Dual quaternions have a second constraint: the real and the dual quaternion must be orthogonal, that is, their scalar product must be 0. When applying normal dual quaternion operations, this constraint is usually not violated easily, but it has to be considered when we accept any arbitrary user input. Hence, we implemented a normalization procedure that enforces both constraints in `RigidTransform.from_dual_quat()`."
   ]
  },
  {
   "cell_type": "code",
   "execution_count": 17,
   "id": "f3f4b3ca-98f2-40d1-8246-12820f1dfe5b",
   "metadata": {},
   "outputs": [
    {
     "data": {
      "text/plain": [
       "array([ 0.0660307 ,  1.12724121,  0.46750934, -0.85929246,  0.36875078,\n",
       "       -0.9588826 ,  0.8784503 , -0.04992591])"
      ]
     },
     "execution_count": 17,
     "metadata": {},
     "output_type": "execute_result"
    }
   ],
   "source": [
    "dq_unnormalized = rng.normal(size=8)\n",
    "dq_unnormalized"
   ]
  },
  {
   "cell_type": "code",
   "execution_count": 18,
   "id": "ca2b31ff-169e-4317-91c8-965208ccb99f",
   "metadata": {},
   "outputs": [
    {
     "data": {
      "text/plain": [
       "np.float64(2.231981313568)"
      ]
     },
     "execution_count": 18,
     "metadata": {},
     "output_type": "execute_result"
    }
   ],
   "source": [
    "np.round(dq_unnormalized[:4] @ dq_unnormalized[:4], 12)"
   ]
  },
  {
   "cell_type": "code",
   "execution_count": 19,
   "id": "d016646e-1249-4b03-94b7-aa41a2b229f2",
   "metadata": {},
   "outputs": [
    {
     "data": {
      "text/plain": [
       "np.float64(-0.602958427222)"
      ]
     },
     "execution_count": 19,
     "metadata": {},
     "output_type": "execute_result"
    }
   ],
   "source": [
    "np.round(dq_unnormalized[:4] @ dq_unnormalized[4:], 12)"
   ]
  },
  {
   "cell_type": "code",
   "execution_count": 20,
   "id": "cba4df43-2390-4df1-b4e7-55224c3b66ca",
   "metadata": {},
   "outputs": [
    {
     "data": {
      "text/plain": [
       "array([ 0.0441978 ,  0.75452143,  0.31292843, -0.57516934,  0.17320425,\n",
       "       -0.29317634,  0.4501586 , -0.12637176])"
      ]
     },
     "execution_count": 20,
     "metadata": {},
     "output_type": "execute_result"
    }
   ],
   "source": [
    "dq_normalized = RigidTransform.from_dual_quat(dq_unnormalized).as_dual_quat()\n",
    "dq_normalized"
   ]
  },
  {
   "cell_type": "code",
   "execution_count": 21,
   "id": "79f6c386-ac58-4e92-8fc8-9724d21419f9",
   "metadata": {},
   "outputs": [
    {
     "data": {
      "text/plain": [
       "np.float64(1.0)"
      ]
     },
     "execution_count": 21,
     "metadata": {},
     "output_type": "execute_result"
    }
   ],
   "source": [
    "np.round(dq_normalized[:4] @ dq_normalized[:4], 12)"
   ]
  },
  {
   "cell_type": "code",
   "execution_count": 22,
   "id": "31ea6f1d-19f5-4cdb-a2c8-907df64c33cd",
   "metadata": {},
   "outputs": [
    {
     "data": {
      "text/plain": [
       "np.float64(0.0)"
      ]
     },
     "execution_count": 22,
     "metadata": {},
     "output_type": "execute_result"
    }
   ],
   "source": [
    "np.round(dq_normalized[:4] @ dq_normalized[4:], 12)"
   ]
  },
  {
   "cell_type": "markdown",
   "id": "486517c0-6a3b-4bfd-beac-e5d3c806f055",
   "metadata": {},
   "source": [
    "### Operations\n",
    "\n",
    "The following operations are already provided by `RigidTransform`.\n",
    "\n",
    "#### Application to Vector\n",
    "\n",
    "The vector could be a position or translation."
   ]
  },
  {
   "cell_type": "code",
   "execution_count": 23,
   "id": "aaae4186-8d85-44ca-862b-52952521b086",
   "metadata": {},
   "outputs": [
    {
     "data": {
      "text/plain": [
       "array([3., 5., 7.])"
      ]
     },
     "execution_count": 23,
     "metadata": {},
     "output_type": "execute_result"
    }
   ],
   "source": [
    "tf_BA.apply([2, 3, 4])"
   ]
  },
  {
   "cell_type": "markdown",
   "id": "6294623f-c0e8-4a53-a5bd-b12bf5fd61f8",
   "metadata": {},
   "source": [
    "#### Inversion"
   ]
  },
  {
   "cell_type": "code",
   "execution_count": 24,
   "id": "d7bc83d8-2308-432a-8f9e-494d831c14cb",
   "metadata": {},
   "outputs": [
    {
     "data": {
      "text/plain": [
       "RigidTransform.from_matrix(array([[ 1.,  0.,  0., -1.],\n",
       "                                  [ 0.,  1.,  0., -2.],\n",
       "                                  [ 0.,  0.,  1., -3.],\n",
       "                                  [ 0.,  0.,  0.,  1.]]))"
      ]
     },
     "execution_count": 24,
     "metadata": {},
     "output_type": "execute_result"
    }
   ],
   "source": [
    "tf_BA.inv()"
   ]
  },
  {
   "cell_type": "markdown",
   "id": "3c41e00f-3a04-4b43-a63a-21567d4374e7",
   "metadata": {},
   "source": [
    "#### Composition"
   ]
  },
  {
   "cell_type": "code",
   "execution_count": 25,
   "id": "005cfa07-072a-4665-93d0-78393e20453d",
   "metadata": {},
   "outputs": [
    {
     "data": {
      "text/plain": [
       "RigidTransform.from_matrix(array([[ 0., -1.,  0., -2.],\n",
       "                                  [ 1.,  0.,  0.,  1.],\n",
       "                                  [ 0.,  0.,  1.,  3.],\n",
       "                                  [ 0.,  0.,  0.,  1.]]))"
      ]
     },
     "execution_count": 25,
     "metadata": {},
     "output_type": "execute_result"
    }
   ],
   "source": [
    "tf_CB * tf_BA"
   ]
  },
  {
   "cell_type": "markdown",
   "id": "c90087b6-54a7-4801-8361-bc2a4d523ad8",
   "metadata": {},
   "source": [
    "#### Exponentiation\n",
    "\n",
    "This can be done with integers or floats if you want to compute fractions of the transformation (for example, for screw linear interpolation):"
   ]
  },
  {
   "cell_type": "code",
   "execution_count": 26,
   "id": "9b75c0bf-e096-419f-84c6-c478472fb8a6",
   "metadata": {},
   "outputs": [
    {
     "data": {
      "text/plain": [
       "RigidTransform.from_matrix(array([[1., 0., 0., 2.],\n",
       "                                  [0., 1., 0., 4.],\n",
       "                                  [0., 0., 1., 6.],\n",
       "                                  [0., 0., 0., 1.]]))"
      ]
     },
     "execution_count": 26,
     "metadata": {},
     "output_type": "execute_result"
    }
   ],
   "source": [
    "tf_BA ** 2"
   ]
  },
  {
   "cell_type": "code",
   "execution_count": 27,
   "id": "9479ba41-e01e-4ca4-881d-3301af080e5e",
   "metadata": {},
   "outputs": [
    {
     "data": {
      "text/plain": [
       "RigidTransform.from_matrix(array([[1. , 0. , 0. , 0.5],\n",
       "                                  [0. , 1. , 0. , 1. ],\n",
       "                                  [0. , 0. , 1. , 1.5],\n",
       "                                  [0. , 0. , 0. , 1. ]]))"
      ]
     },
     "execution_count": 27,
     "metadata": {},
     "output_type": "execute_result"
    }
   ],
   "source": [
    "tf_BA ** 0.5"
   ]
  },
  {
   "cell_type": "markdown",
   "id": "551745d8-c1a6-4070-9797-5fd575135a7a",
   "metadata": {},
   "source": [
    "The operation is implemented as"
   ]
  },
  {
   "cell_type": "code",
   "execution_count": 28,
   "id": "b6a1954b-f989-411a-a65d-fb0141fdc0a8",
   "metadata": {},
   "outputs": [
    {
     "data": {
      "text/plain": [
       "RigidTransform.from_matrix(array([[1. , 0. , 0. , 0.5],\n",
       "                                  [0. , 1. , 0. , 1. ],\n",
       "                                  [0. , 0. , 1. , 1.5],\n",
       "                                  [0. , 0. , 0. , 1. ]]))"
      ]
     },
     "execution_count": 28,
     "metadata": {},
     "output_type": "execute_result"
    }
   ],
   "source": [
    "RigidTransform.from_exp_coords(tf_BA.as_exp_coords() * 0.5)"
   ]
  },
  {
   "cell_type": "markdown",
   "id": "a5a76ab5-0853-4bcf-a00a-dc24435cbb16",
   "metadata": {},
   "source": [
    "## Vectorization\n",
    "\n",
    "The best feature of the `RigidTransform` class is that it provides a vectorized implementation of everything like the `Rotation` class. Here is a (maybe not so useful) example:"
   ]
  },
  {
   "cell_type": "code",
   "execution_count": 29,
   "id": "1bbebdf5-f17c-432d-afb6-df6d0f8aaf39",
   "metadata": {},
   "outputs": [
    {
     "data": {
      "text/plain": [
       "array([[ 2.20810174e-01,  4.20608441e-01, -2.55810631e+00,\n",
       "        -1.34804258e+00, -8.86896742e-01, -2.66618093e-01],\n",
       "       [ 1.85131157e-01, -6.74173631e-03, -5.15167346e-01,\n",
       "        -1.25089375e+00, -2.78255916e-01,  2.43839425e+00],\n",
       "       [ 6.19387890e-02,  4.78173367e-01,  1.60936659e+00,\n",
       "         7.03915088e-01,  2.60872186e+00,  7.14607252e+00],\n",
       "       [-5.48148379e-01, -2.02513971e+00, -8.07553759e-01,\n",
       "         3.17156118e+00,  4.99888882e+00, -1.45942207e+00],\n",
       "       [ 4.05495194e-01, -2.62440723e+00, -1.05705048e+00,\n",
       "        -4.78402325e-01,  3.70464340e+00, -1.31443798e+00]])"
      ]
     },
     "execution_count": 29,
     "metadata": {},
     "output_type": "execute_result"
    }
   ],
   "source": [
    "import pytransform3d.trajectories as ptr\n",
    "\n",
    "\n",
    "exp_coords = ptr.exponential_coordinates_from_transforms(\n",
    "    ptr.random_trajectories(rng, n_trajectories=1, n_steps=5))[0]\n",
    "exp_coords"
   ]
  },
  {
   "cell_type": "markdown",
   "id": "65556275-7e9b-4751-b924-131044bbf348",
   "metadata": {},
   "source": [
    "We can use indices to access individual transformations:"
   ]
  },
  {
   "cell_type": "code",
   "execution_count": 30,
   "id": "9bb1ec8c-0eb4-46f8-ab80-71d996a15111",
   "metadata": {},
   "outputs": [
    {
     "data": {
      "text/plain": [
       "RigidTransform.from_matrix(array([[-0.84445547,  0.53077281, -0.07193876, -0.9193893 ],\n",
       "                                  [-0.47979596, -0.80928491, -0.33890082,  0.78792548],\n",
       "                                  [-0.2380983 , -0.25167072,  0.93806772,  0.04575961],\n",
       "                                  [ 0.        ,  0.        ,  0.        ,  1.        ]]))"
      ]
     },
     "execution_count": 30,
     "metadata": {},
     "output_type": "execute_result"
    }
   ],
   "source": [
    "tfs = RigidTransform.from_exp_coords(exp_coords)\n",
    "tfs[0]"
   ]
  },
  {
   "cell_type": "markdown",
   "id": "f8ce869d-deca-428a-a566-b8a169417735",
   "metadata": {},
   "source": [
    "We can use, for instance, composition, exponentiation, inversion, and conversions with this batch of transformations."
   ]
  },
  {
   "cell_type": "code",
   "execution_count": 31,
   "id": "ae4894b9-aba9-454f-853c-1eb07d439344",
   "metadata": {},
   "outputs": [
    {
     "data": {
      "text/plain": [
       "array([[ 9.19175766e-01, -3.34246220e-02, -6.36686159e-02,\n",
       "         3.87227341e-01,  1.28738511e-03,  2.04367759e-01,\n",
       "         1.34844273e-01,  3.67560052e-02],\n",
       "       [ 9.16882411e-01,  1.34979705e-01, -4.91542099e-03,\n",
       "        -3.75610120e-01,  8.12522311e-01, -8.73995169e-01,\n",
       "        -2.04262353e-01,  1.67199926e+00],\n",
       "       [-4.57013511e-01,  3.27920389e-02,  2.53157672e-01,\n",
       "         8.52041387e-01, -5.07918773e+00,  1.27844919e-01,\n",
       "        -5.08956690e-01, -2.57804780e+00],\n",
       "       [ 7.83731604e-01,  1.51443405e-01,  5.59509188e-01,\n",
       "         2.23112383e-01, -2.21371584e+00,  1.25005624e-01,\n",
       "         2.31802698e+00,  1.87829285e+00],\n",
       "       [ 9.77496996e-01, -2.99275784e-02,  1.93694411e-01,\n",
       "         7.80156251e-02, -4.72004583e-01, -3.06226228e-01,\n",
       "         1.93702709e+00,  9.87329538e-01]])"
      ]
     },
     "execution_count": 31,
     "metadata": {},
     "output_type": "execute_result"
    }
   ],
   "source": [
    "((tfs * tfs) ** -0.75).inv().as_dual_quat(scalar_first=True)"
   ]
  },
  {
   "cell_type": "markdown",
   "id": "31508c62-9c8a-4c60-b448-63cfa47458b2",
   "metadata": {},
   "source": [
    "## What's Next?\n",
    "\n",
    "### SciPy\n",
    "\n",
    "For SciPy, there is a roadmap issue for this new feature that contains several related tasks: [RFC: Feature roadmap for 3D spatial transformations #22370](https://github.com/scipy/scipy/issues/22370).\n",
    "\n",
    "### pytransform3d\n",
    "\n",
    "As you have seen, pytransform3d is fully compatible with this class. However, I envision it to be a more complete and transparent set of implementations. While SciPy supports the most useful representations of rigid transformations, it hides its internal representation so that it can be replaced in the future. It also does not need a direct translation from dual quaternions to transformation matrices. pytransform3d does not support it yet either, but it would be in the scope of the library. Furthermore, in the scope of pytransform3d are tools to work effectively with every representation, such as normalization in different ways, detecting numerical issues, and similarity checks for representations with double cover. In addition, the TransformManager and the plotting and visualization tools are most likely out of scope for SciPy.\n",
    "\n",
    "### JAX\n",
    "\n",
    "I really like the idea of JAX, a differentiable and GPU-compatible NumPy. It supports the [Rotation](https://docs.jax.dev/en/latest/_autosummary/jax.scipy.spatial.transform.Rotation.html) class of SciPy already. A next step would be to adopt the RigidTransform interface."
   ]
  }
 ],
 "metadata": {
  "kernelspec": {
   "display_name": "Python 3 (ipykernel)",
   "language": "python",
   "name": "python3"
  },
  "language_info": {
   "codemirror_mode": {
    "name": "ipython",
    "version": 3
   },
   "file_extension": ".py",
   "mimetype": "text/x-python",
   "name": "python",
   "nbconvert_exporter": "python",
   "pygments_lexer": "ipython3",
   "version": "3.12.8"
  }
 },
 "nbformat": 4,
 "nbformat_minor": 5
}
